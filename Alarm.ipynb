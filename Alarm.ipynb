{
 "cells": [
  {
   "cell_type": "code",
   "execution_count": 1,
   "id": "22b6d86c",
   "metadata": {},
   "outputs": [
    {
     "name": "stdout",
     "output_type": "stream",
     "text": [
      "time.struct_time(tm_year=2022, tm_mon=3, tm_mday=7, tm_hour=14, tm_min=13, tm_sec=2, tm_wday=0, tm_yday=66, tm_isdst=0)\n"
     ]
    }
   ],
   "source": [
    "import time\n",
    "result = time.localtime()\n",
    "print(result)"
   ]
  },
  {
   "cell_type": "code",
   "execution_count": 2,
   "id": "4ad1e8ac",
   "metadata": {},
   "outputs": [
    {
     "name": "stdout",
     "output_type": "stream",
     "text": [
      "------------ Enter time in formate of 24hrs --------- \n",
      " \n",
      "Hours :-14\n",
      "Minute :-15\n",
      "Seconds :-00\n",
      "Its Time to wakeup Buddy.!\n"
     ]
    }
   ],
   "source": [
    "print(\"------------ Enter time in formate of 24hrs --------- \\n \")\n",
    "alarm_hr = int(input('Hours :-'))\n",
    "alarm_min = int(input('Minute :-'))\n",
    "alarm_sec = int(input('Seconds :-'))\n",
    "\n",
    "while True:\n",
    "    result = time.localtime()\n",
    "    if result.tm_hour == alarm_hr and result.tm_min == alarm_min and result.tm_sec == alarm_sec:\n",
    "        print(\"Its Time to wakeup Buddy.!\")\n",
    "        break"
   ]
  },
  {
   "cell_type": "code",
   "execution_count": null,
   "id": "91115bb8",
   "metadata": {},
   "outputs": [],
   "source": []
  }
 ],
 "metadata": {
  "kernelspec": {
   "display_name": "Python 3 (ipykernel)",
   "language": "python",
   "name": "python3"
  },
  "language_info": {
   "codemirror_mode": {
    "name": "ipython",
    "version": 3
   },
   "file_extension": ".py",
   "mimetype": "text/x-python",
   "name": "python",
   "nbconvert_exporter": "python",
   "pygments_lexer": "ipython3",
   "version": "3.9.7"
  }
 },
 "nbformat": 4,
 "nbformat_minor": 5
}
